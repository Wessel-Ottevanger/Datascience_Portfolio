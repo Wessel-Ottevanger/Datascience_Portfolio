{
 "cells": [
  {
   "cell_type": "code",
   "execution_count": 38,
   "metadata": {},
   "outputs": [],
   "source": [
    "import pandas as pd\n",
    "import pickle\n",
    "from sklearn.svm import LinearSVC\n",
    "from sklearn.feature_extraction.text import TfidfVectorizer\n",
    "from sklearn.metrics import precision_recall_fscore_support\n",
    "from preprocessing import PreProcessor\n",
    "preprocess = PreProcessor().preprocess\n",
    "from sklearn.model_selection import train_test_split\n",
    "import warnings\n",
    "import numpy as np\n",
    "warnings.simplefilter('ignore')"
   ]
  },
  {
   "cell_type": "code",
   "execution_count": 34,
   "metadata": {},
   "outputs": [],
   "source": [
    "df_agora = pd.read_csv('data/Mapped.csv')\n",
    "df_agora = df_agora.dropna(subset = ['Category', 'Item', 'Item Description'])\n",
    "corpus_agora = df_agora['Item'] + df_agora['Item Description']\n",
    "corpus_agora = corpus_agora.apply(lambda d: preprocess(d , lower_case=False, strip=False, punctuation=False, numbers=False, unicode=False, cut_off=False, stop_words=False, stemming=False, lemmatizing=False, min_word_length=-1, max_word_length=-1, tokenize=False))"
   ]
  },
  {
   "cell_type": "code",
   "execution_count": 35,
   "metadata": {},
   "outputs": [],
   "source": [
    "tfidfAgora = TfidfVectorizer(ngram_range=(1,2))\n",
    "X_Agora = tfidfAgora.fit_transform(corpus_agora)\n",
    "Y_Agora = df_agora[\"Category\"]"
   ]
  },
  {
   "cell_type": "code",
   "execution_count": 36,
   "metadata": {},
   "outputs": [],
   "source": [
    "def QuickMap(sentence):\n",
    "    if sentence == 'Drugs & Chemicals': return 'Drugs'\n",
    "    if sentence == 'Guides & Tutorials': return 'Tutorial'\n",
    "    if sentence == 'Software & Malware': return 'Software'\n",
    "    if sentence == 'Counterfeits': return 'Counterfeit'\n",
    "    if sentence == 'Jewelry & Gold': return 'Stolen Goods'\n",
    "    if sentence == 'Security & Hosting': return 'Hosting'\n",
    "    if sentence == 'Digital Goods': return 'Wiki'\n",
    "    if sentence == 'Carded Items': return 'Carding'\n",
    "    else: return sentence\n",
    "\n",
    "with open('data/pickle_bu/tfidf_model.pkl', 'rb') as f:\n",
    "    tfidfWebIQ = pickle.load(f)\n",
    "with open('data/pickle_bu/tfidf_vectors.pkl', 'rb') as f:\n",
    "    X_WebIQ = pickle.load(f)\n",
    "with open('data/pickle_bu/categorieen.pkl', 'rb') as f:\n",
    "    Y_WebIQ = pickle.load(f)\n",
    "    \n",
    "Y_WebIQ = pd.Series(Y_WebIQ).apply(lambda d: QuickMap(d))"
   ]
  },
  {
   "cell_type": "code",
   "execution_count": 37,
   "metadata": {},
   "outputs": [
    {
     "name": "stdout",
     "output_type": "stream",
     "text": [
      "Training for Agora\n",
      "Training for WebIQ\n"
     ]
    }
   ],
   "source": [
    "print('Training for Agora')\n",
    "X_A_train, X_A_test, Y_A_train, Y_A_test = train_test_split(X_Agora, Y_Agora, test_size=0.2, random_state=0) \n",
    "SVC_Agora = LinearSVC().fit(X_A_train, Y_A_train)\n",
    "\n",
    "print('Training for WebIQ')\n",
    "X_W_train, X_W_test, Y_W_train, Y_W_test = train_test_split(X_WebIQ, Y_WebIQ, test_size=0.2, random_state=0) \n",
    "SVC_WebIQ = LinearSVC().fit(X_W_train, Y_W_train)"
   ]
  },
  {
   "cell_type": "code",
   "execution_count": 39,
   "metadata": {},
   "outputs": [
    {
     "data": {
      "text/plain": [
       "(0.9614741125932625, 0.9614741125932625, 0.9614741125932625, None)"
      ]
     },
     "execution_count": 39,
     "metadata": {},
     "output_type": "execute_result"
    }
   ],
   "source": [
    "Y_P_Agora = SVC_Agora.predict(X_A_test)\n",
    "precision_recall_fscore_support(Y_P_Agora, Y_A_test, average='micro')"
   ]
  },
  {
   "cell_type": "code",
   "execution_count": 40,
   "metadata": {},
   "outputs": [
    {
     "data": {
      "text/plain": [
       "(0.8373597929249353, 0.8373597929249353, 0.8373597929249353, None)"
      ]
     },
     "execution_count": 40,
     "metadata": {},
     "output_type": "execute_result"
    }
   ],
   "source": [
    "Y_P_WebIQ = SVC_WebIQ.predict(X_W_test)\n",
    "precision_recall_fscore_support(Y_P_WebIQ, Y_W_test, average='micro')"
   ]
  }
 ],
 "metadata": {
  "kernelspec": {
   "display_name": "Python 3",
   "language": "python",
   "name": "python3"
  },
  "language_info": {
   "codemirror_mode": {
    "name": "ipython",
    "version": 3
   },
   "file_extension": ".py",
   "mimetype": "text/x-python",
   "name": "python",
   "nbconvert_exporter": "python",
   "pygments_lexer": "ipython3",
   "version": "3.6.8"
  }
 },
 "nbformat": 4,
 "nbformat_minor": 2
}
