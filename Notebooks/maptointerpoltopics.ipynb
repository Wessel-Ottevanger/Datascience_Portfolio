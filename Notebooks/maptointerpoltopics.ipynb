{
 "cells": [
  {
   "cell_type": "code",
   "execution_count": 45,
   "metadata": {},
   "outputs": [],
   "source": [
    "import pandas as pd\n",
    "import numpy as np\n",
    "import tqdm\n",
    "\n",
    "df = pd.read_csv('data/agorb.csv')\n",
    "df2 = pd.read_csv('interpoltopics.csv')\n",
    "\n",
    "df.columns = [\"Vendor\", \"Category\", \"Item\", \"Item Description\", \"Price\", \"Origin\", 'Destination', \"Rating\", \"Remarks\", \"randomshit\"]\n",
    "df = df.dropna(subset=['Item', 'Item Description'])\n",
    "df = df[df[\"Category\"] != \"Other\"]\n"
   ]
  },
  {
   "cell_type": "code",
   "execution_count": 47,
   "metadata": {},
   "outputs": [],
   "source": [
    "def get_interpol_cat(c):\n",
    "    return df2['Interpol'].values[df2.index[df2[\"Agora\"] == c].tolist()[0]]\n",
    "\n",
    "df[\"Category\"] = df[\"Category\"].apply(lambda d: get_interpol_cat(d))\n",
    "df.to_csv(\"Mapped.csv\")"
   ]
  }
 ],
 "metadata": {
  "kernelspec": {
   "display_name": "Python 3",
   "language": "python",
   "name": "python3"
  },
  "language_info": {
   "codemirror_mode": {
    "name": "ipython",
    "version": 3
   },
   "file_extension": ".py",
   "mimetype": "text/x-python",
   "name": "python",
   "nbconvert_exporter": "python",
   "pygments_lexer": "ipython3",
   "version": "3.6.8"
  }
 },
 "nbformat": 4,
 "nbformat_minor": 2
}
